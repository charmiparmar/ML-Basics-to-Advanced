{
  "metadata": {
    "language_info": {
      "codemirror_mode": {
        "name": "python",
        "version": 3
      },
      "file_extension": ".py",
      "mimetype": "text/x-python",
      "name": "python",
      "nbconvert_exporter": "python",
      "pygments_lexer": "ipython3",
      "version": "3.8"
    },
    "kernelspec": {
      "name": "python",
      "display_name": "Python (Pyodide)",
      "language": "python"
    }
  },
  "nbformat_minor": 4,
  "nbformat": 4,
  "cells": [
    {
      "cell_type": "code",
      "source": "import numpy as np\nimport pandas as pd\nfrom sklearn.linear_model import LogisticRegression\n\ndf = pd.read_excel(\"loan.xlsx\")\ndf.info()",
      "metadata": {
        "trusted": true
      },
      "execution_count": 3,
      "outputs": [
        {
          "name": "stdout",
          "text": "<class 'pandas.core.frame.DataFrame'>\nRangeIndex: 429 entries, 0 to 428\nData columns (total 14 columns):\n #   Column           Non-Null Count  Dtype  \n---  ------           --------------  -----  \n 0   Sex              429 non-null    object \n 1   Age              429 non-null    float64\n 2   Time_at_address  429 non-null    float64\n 3   Res_status       429 non-null    object \n 4   Telephone        429 non-null    object \n 5   Occupation       429 non-null    object \n 6   Job_status       429 non-null    object \n 7   Time_employed    429 non-null    int64  \n 8   Time_bank        429 non-null    int64  \n 9   Liab_ref         429 non-null    object \n 10  Acc_ref          429 non-null    object \n 11  Home_Expn        429 non-null    int64  \n 12  Balance          429 non-null    int64  \n 13  Decision         429 non-null    object \ndtypes: float64(2), int64(4), object(8)\nmemory usage: 33.6+ KB\n",
          "output_type": "stream"
        }
      ]
    },
    {
      "cell_type": "code",
      "source": "x = df[df.columns[df.columns != 'Decision']]\ny = df.Decision\n\n#Checking data\ndf.head()",
      "metadata": {
        "trusted": true
      },
      "execution_count": 5,
      "outputs": [
        {
          "execution_count": 5,
          "output_type": "execute_result",
          "data": {
            "text/plain": "  Sex        Age  Time_at_address Res_status  Telephone Occupation Job_status  \\\n0   M  50.750000            0.585      owner      given  unemploye  unemploye   \n1   M  19.670000           10.000       rent  not_given   labourer  governmen   \n2   F  52.830002           15.000      owner      given  creative_  private_s   \n3   M  22.670000            2.540       rent  not_given  creative_  governmen   \n4   M  29.250000           13.000      owner      given     driver  governmen   \n\n   Time_employed  Time_bank Liab_ref Acc_ref  Home_Expn  Balance Decision  \n0              0          0        f   given        145        0   reject  \n1              0          0        t   given        140        0   reject  \n2              5         14        f   given          0     2200   accept  \n3              2          0        f   given          0        0   accept  \n4              0          0        f   given        228        0   reject  ",
            "text/html": "<div>\n<style scoped>\n    .dataframe tbody tr th:only-of-type {\n        vertical-align: middle;\n    }\n\n    .dataframe tbody tr th {\n        vertical-align: top;\n    }\n\n    .dataframe thead th {\n        text-align: right;\n    }\n</style>\n<table border=\"1\" class=\"dataframe\">\n  <thead>\n    <tr style=\"text-align: right;\">\n      <th></th>\n      <th>Sex</th>\n      <th>Age</th>\n      <th>Time_at_address</th>\n      <th>Res_status</th>\n      <th>Telephone</th>\n      <th>Occupation</th>\n      <th>Job_status</th>\n      <th>Time_employed</th>\n      <th>Time_bank</th>\n      <th>Liab_ref</th>\n      <th>Acc_ref</th>\n      <th>Home_Expn</th>\n      <th>Balance</th>\n      <th>Decision</th>\n    </tr>\n  </thead>\n  <tbody>\n    <tr>\n      <th>0</th>\n      <td>M</td>\n      <td>50.750000</td>\n      <td>0.585</td>\n      <td>owner</td>\n      <td>given</td>\n      <td>unemploye</td>\n      <td>unemploye</td>\n      <td>0</td>\n      <td>0</td>\n      <td>f</td>\n      <td>given</td>\n      <td>145</td>\n      <td>0</td>\n      <td>reject</td>\n    </tr>\n    <tr>\n      <th>1</th>\n      <td>M</td>\n      <td>19.670000</td>\n      <td>10.000</td>\n      <td>rent</td>\n      <td>not_given</td>\n      <td>labourer</td>\n      <td>governmen</td>\n      <td>0</td>\n      <td>0</td>\n      <td>t</td>\n      <td>given</td>\n      <td>140</td>\n      <td>0</td>\n      <td>reject</td>\n    </tr>\n    <tr>\n      <th>2</th>\n      <td>F</td>\n      <td>52.830002</td>\n      <td>15.000</td>\n      <td>owner</td>\n      <td>given</td>\n      <td>creative_</td>\n      <td>private_s</td>\n      <td>5</td>\n      <td>14</td>\n      <td>f</td>\n      <td>given</td>\n      <td>0</td>\n      <td>2200</td>\n      <td>accept</td>\n    </tr>\n    <tr>\n      <th>3</th>\n      <td>M</td>\n      <td>22.670000</td>\n      <td>2.540</td>\n      <td>rent</td>\n      <td>not_given</td>\n      <td>creative_</td>\n      <td>governmen</td>\n      <td>2</td>\n      <td>0</td>\n      <td>f</td>\n      <td>given</td>\n      <td>0</td>\n      <td>0</td>\n      <td>accept</td>\n    </tr>\n    <tr>\n      <th>4</th>\n      <td>M</td>\n      <td>29.250000</td>\n      <td>13.000</td>\n      <td>owner</td>\n      <td>given</td>\n      <td>driver</td>\n      <td>governmen</td>\n      <td>0</td>\n      <td>0</td>\n      <td>f</td>\n      <td>given</td>\n      <td>228</td>\n      <td>0</td>\n      <td>reject</td>\n    </tr>\n  </tbody>\n</table>\n</div>"
          },
          "metadata": {}
        }
      ]
    },
    {
      "cell_type": "code",
      "source": "%pip install category_encoders",
      "metadata": {
        "trusted": true
      },
      "execution_count": 6,
      "outputs": []
    },
    {
      "cell_type": "code",
      "source": "import category_encoders as ce\nencoder = ce.OneHotEncoder(cols=['Sex','Res_status','Telephone','Occupation','Job_status','Liab_ref','Acc_ref','Decision'], use_cat_names=True)",
      "metadata": {
        "trusted": true
      },
      "execution_count": 7,
      "outputs": []
    },
    {
      "cell_type": "code",
      "source": "from sklearn.model_selection import train_test_split\n\ntrain_encoded = encoder.fit_transform(df)\ntrain_encoded.head()",
      "metadata": {
        "trusted": true
      },
      "execution_count": 9,
      "outputs": [
        {
          "execution_count": 9,
          "output_type": "execute_result",
          "data": {
            "text/plain": "   Sex_M  Sex_F        Age  Time_at_address  Res_status_owner  \\\n0      1      0  50.750000            0.585                 1   \n1      1      0  19.670000           10.000                 0   \n2      0      1  52.830002           15.000                 1   \n3      1      0  22.670000            2.540                 0   \n4      1      0  29.250000           13.000                 1   \n\n   Res_status_rent  Telephone_given  Telephone_not_given  \\\n0                0                1                    0   \n1                1                0                    1   \n2                0                1                    0   \n3                1                0                    1   \n4                0                1                    0   \n\n   Occupation_unemploye  Occupation_labourer  ...  Time_employed  Time_bank  \\\n0                     1                    0  ...              0          0   \n1                     0                    1  ...              0          0   \n2                     0                    0  ...              5         14   \n3                     0                    0  ...              2          0   \n4                     0                    0  ...              0          0   \n\n   Liab_ref_f  Liab_ref_t  Acc_ref_given  Acc_ref_oth_inst_  Home_Expn  \\\n0           1           0              1                  0        145   \n1           0           1              1                  0        140   \n2           1           0              1                  0          0   \n3           1           0              1                  0          0   \n4           1           0              1                  0        228   \n\n   Balance  Decision_reject  Decision_accept  \n0        0                1                0  \n1        0                1                0  \n2     2200                0                1  \n3        0                0                1  \n4        0                1                0  \n\n[5 rows x 37 columns]",
            "text/html": "<div>\n<style scoped>\n    .dataframe tbody tr th:only-of-type {\n        vertical-align: middle;\n    }\n\n    .dataframe tbody tr th {\n        vertical-align: top;\n    }\n\n    .dataframe thead th {\n        text-align: right;\n    }\n</style>\n<table border=\"1\" class=\"dataframe\">\n  <thead>\n    <tr style=\"text-align: right;\">\n      <th></th>\n      <th>Sex_M</th>\n      <th>Sex_F</th>\n      <th>Age</th>\n      <th>Time_at_address</th>\n      <th>Res_status_owner</th>\n      <th>Res_status_rent</th>\n      <th>Telephone_given</th>\n      <th>Telephone_not_given</th>\n      <th>Occupation_unemploye</th>\n      <th>Occupation_labourer</th>\n      <th>...</th>\n      <th>Time_employed</th>\n      <th>Time_bank</th>\n      <th>Liab_ref_f</th>\n      <th>Liab_ref_t</th>\n      <th>Acc_ref_given</th>\n      <th>Acc_ref_oth_inst_</th>\n      <th>Home_Expn</th>\n      <th>Balance</th>\n      <th>Decision_reject</th>\n      <th>Decision_accept</th>\n    </tr>\n  </thead>\n  <tbody>\n    <tr>\n      <th>0</th>\n      <td>1</td>\n      <td>0</td>\n      <td>50.750000</td>\n      <td>0.585</td>\n      <td>1</td>\n      <td>0</td>\n      <td>1</td>\n      <td>0</td>\n      <td>1</td>\n      <td>0</td>\n      <td>...</td>\n      <td>0</td>\n      <td>0</td>\n      <td>1</td>\n      <td>0</td>\n      <td>1</td>\n      <td>0</td>\n      <td>145</td>\n      <td>0</td>\n      <td>1</td>\n      <td>0</td>\n    </tr>\n    <tr>\n      <th>1</th>\n      <td>1</td>\n      <td>0</td>\n      <td>19.670000</td>\n      <td>10.000</td>\n      <td>0</td>\n      <td>1</td>\n      <td>0</td>\n      <td>1</td>\n      <td>0</td>\n      <td>1</td>\n      <td>...</td>\n      <td>0</td>\n      <td>0</td>\n      <td>0</td>\n      <td>1</td>\n      <td>1</td>\n      <td>0</td>\n      <td>140</td>\n      <td>0</td>\n      <td>1</td>\n      <td>0</td>\n    </tr>\n    <tr>\n      <th>2</th>\n      <td>0</td>\n      <td>1</td>\n      <td>52.830002</td>\n      <td>15.000</td>\n      <td>1</td>\n      <td>0</td>\n      <td>1</td>\n      <td>0</td>\n      <td>0</td>\n      <td>0</td>\n      <td>...</td>\n      <td>5</td>\n      <td>14</td>\n      <td>1</td>\n      <td>0</td>\n      <td>1</td>\n      <td>0</td>\n      <td>0</td>\n      <td>2200</td>\n      <td>0</td>\n      <td>1</td>\n    </tr>\n    <tr>\n      <th>3</th>\n      <td>1</td>\n      <td>0</td>\n      <td>22.670000</td>\n      <td>2.540</td>\n      <td>0</td>\n      <td>1</td>\n      <td>0</td>\n      <td>1</td>\n      <td>0</td>\n      <td>0</td>\n      <td>...</td>\n      <td>2</td>\n      <td>0</td>\n      <td>1</td>\n      <td>0</td>\n      <td>1</td>\n      <td>0</td>\n      <td>0</td>\n      <td>0</td>\n      <td>0</td>\n      <td>1</td>\n    </tr>\n    <tr>\n      <th>4</th>\n      <td>1</td>\n      <td>0</td>\n      <td>29.250000</td>\n      <td>13.000</td>\n      <td>1</td>\n      <td>0</td>\n      <td>1</td>\n      <td>0</td>\n      <td>0</td>\n      <td>0</td>\n      <td>...</td>\n      <td>0</td>\n      <td>0</td>\n      <td>1</td>\n      <td>0</td>\n      <td>1</td>\n      <td>0</td>\n      <td>228</td>\n      <td>0</td>\n      <td>1</td>\n      <td>0</td>\n    </tr>\n  </tbody>\n</table>\n<p>5 rows × 37 columns</p>\n</div>"
          },
          "metadata": {}
        }
      ]
    },
    {
      "cell_type": "code",
      "source": "x1=train_encoded[['Age','Time_at_address','Home_Expn','Balance','Time_bank','Time_employed']]\ny1=train_encoded[['Decision_accept']]\n\nmodel=LogisticRegression(solver='lbfgs', max_iter=3000)\nmodel.fit(x1,y1.values.ravel())",
      "metadata": {
        "trusted": true
      },
      "execution_count": 18,
      "outputs": [
        {
          "execution_count": 18,
          "output_type": "execute_result",
          "data": {
            "text/plain": "LogisticRegression(max_iter=3000)",
            "text/html": "<style>#sk-container-id-7 {color: black;background-color: white;}#sk-container-id-7 pre{padding: 0;}#sk-container-id-7 div.sk-toggleable {background-color: white;}#sk-container-id-7 label.sk-toggleable__label {cursor: pointer;display: block;width: 100%;margin-bottom: 0;padding: 0.3em;box-sizing: border-box;text-align: center;}#sk-container-id-7 label.sk-toggleable__label-arrow:before {content: \"▸\";float: left;margin-right: 0.25em;color: #696969;}#sk-container-id-7 label.sk-toggleable__label-arrow:hover:before {color: black;}#sk-container-id-7 div.sk-estimator:hover label.sk-toggleable__label-arrow:before {color: black;}#sk-container-id-7 div.sk-toggleable__content {max-height: 0;max-width: 0;overflow: hidden;text-align: left;background-color: #f0f8ff;}#sk-container-id-7 div.sk-toggleable__content pre {margin: 0.2em;color: black;border-radius: 0.25em;background-color: #f0f8ff;}#sk-container-id-7 input.sk-toggleable__control:checked~div.sk-toggleable__content {max-height: 200px;max-width: 100%;overflow: auto;}#sk-container-id-7 input.sk-toggleable__control:checked~label.sk-toggleable__label-arrow:before {content: \"▾\";}#sk-container-id-7 div.sk-estimator input.sk-toggleable__control:checked~label.sk-toggleable__label {background-color: #d4ebff;}#sk-container-id-7 div.sk-label input.sk-toggleable__control:checked~label.sk-toggleable__label {background-color: #d4ebff;}#sk-container-id-7 input.sk-hidden--visually {border: 0;clip: rect(1px 1px 1px 1px);clip: rect(1px, 1px, 1px, 1px);height: 1px;margin: -1px;overflow: hidden;padding: 0;position: absolute;width: 1px;}#sk-container-id-7 div.sk-estimator {font-family: monospace;background-color: #f0f8ff;border: 1px dotted black;border-radius: 0.25em;box-sizing: border-box;margin-bottom: 0.5em;}#sk-container-id-7 div.sk-estimator:hover {background-color: #d4ebff;}#sk-container-id-7 div.sk-parallel-item::after {content: \"\";width: 100%;border-bottom: 1px solid gray;flex-grow: 1;}#sk-container-id-7 div.sk-label:hover label.sk-toggleable__label {background-color: #d4ebff;}#sk-container-id-7 div.sk-serial::before {content: \"\";position: absolute;border-left: 1px solid gray;box-sizing: border-box;top: 0;bottom: 0;left: 50%;z-index: 0;}#sk-container-id-7 div.sk-serial {display: flex;flex-direction: column;align-items: center;background-color: white;padding-right: 0.2em;padding-left: 0.2em;position: relative;}#sk-container-id-7 div.sk-item {position: relative;z-index: 1;}#sk-container-id-7 div.sk-parallel {display: flex;align-items: stretch;justify-content: center;background-color: white;position: relative;}#sk-container-id-7 div.sk-item::before, #sk-container-id-7 div.sk-parallel-item::before {content: \"\";position: absolute;border-left: 1px solid gray;box-sizing: border-box;top: 0;bottom: 0;left: 50%;z-index: -1;}#sk-container-id-7 div.sk-parallel-item {display: flex;flex-direction: column;z-index: 1;position: relative;background-color: white;}#sk-container-id-7 div.sk-parallel-item:first-child::after {align-self: flex-end;width: 50%;}#sk-container-id-7 div.sk-parallel-item:last-child::after {align-self: flex-start;width: 50%;}#sk-container-id-7 div.sk-parallel-item:only-child::after {width: 0;}#sk-container-id-7 div.sk-dashed-wrapped {border: 1px dashed gray;margin: 0 0.4em 0.5em 0.4em;box-sizing: border-box;padding-bottom: 0.4em;background-color: white;}#sk-container-id-7 div.sk-label label {font-family: monospace;font-weight: bold;display: inline-block;line-height: 1.2em;}#sk-container-id-7 div.sk-label-container {text-align: center;}#sk-container-id-7 div.sk-container {/* jupyter's `normalize.less` sets `[hidden] { display: none; }` but bootstrap.min.css set `[hidden] { display: none !important; }` so we also need the `!important` here to be able to override the default hidden behavior on the sphinx rendered scikit-learn.org. See: https://github.com/scikit-learn/scikit-learn/issues/21755 */display: inline-block !important;position: relative;}#sk-container-id-7 div.sk-text-repr-fallback {display: none;}</style><div id=\"sk-container-id-7\" class=\"sk-top-container\"><div class=\"sk-text-repr-fallback\"><pre>LogisticRegression(max_iter=3000)</pre><b>In a Jupyter environment, please rerun this cell to show the HTML representation or trust the notebook. <br />On GitHub, the HTML representation is unable to render, please try loading this page with nbviewer.org.</b></div><div class=\"sk-container\" hidden><div class=\"sk-item\"><div class=\"sk-estimator sk-toggleable\"><input class=\"sk-toggleable__control sk-hidden--visually\" id=\"sk-estimator-id-7\" type=\"checkbox\" checked><label for=\"sk-estimator-id-7\" class=\"sk-toggleable__label sk-toggleable__label-arrow\">LogisticRegression</label><div class=\"sk-toggleable__content\"><pre>LogisticRegression(max_iter=3000)</pre></div></div></div></div></div>"
          },
          "metadata": {}
        }
      ]
    },
    {
      "cell_type": "code",
      "source": "model.intercept_",
      "metadata": {
        "trusted": true
      },
      "execution_count": 20,
      "outputs": [
        {
          "execution_count": 20,
          "output_type": "execute_result",
          "data": {
            "text/plain": "array([-1.21257531])"
          },
          "metadata": {}
        }
      ]
    },
    {
      "cell_type": "code",
      "source": "model.coef_",
      "metadata": {
        "trusted": true
      },
      "execution_count": 21,
      "outputs": [
        {
          "execution_count": 21,
          "output_type": "execute_result",
          "data": {
            "text/plain": "array([[-0.00319337,  0.00343342, -0.00084811,  0.00037844,  0.33846284,\n         0.26526688]])"
          },
          "metadata": {}
        }
      ]
    },
    {
      "cell_type": "code",
      "source": " model.predict_proba(x1)",
      "metadata": {
        "trusted": true
      },
      "execution_count": 22,
      "outputs": [
        {
          "execution_count": 22,
          "output_type": "execute_result",
          "data": {
            "text/plain": "array([[8.16918248e-01, 1.83081752e-01],\n       [7.95725583e-01, 2.04274417e-01],\n       [3.80511480e-03, 9.96194885e-01],\n       [6.78244167e-01, 3.21755833e-01],\n       [8.10723172e-01, 1.89276828e-01],\n       [7.33475130e-01, 2.66524870e-01],\n       [7.30018626e-01, 2.69981374e-01],\n       [6.58144863e-01, 3.41855137e-01],\n       [7.57658585e-01, 2.42341415e-01],\n       [7.59501923e-01, 2.40498077e-01],\n       [4.66585054e-02, 9.53341495e-01],\n       [8.00492060e-01, 1.99507940e-01],\n       [4.97026868e-01, 5.02973132e-01],\n       [8.14549143e-01, 1.85450857e-01],\n       [3.66970118e-03, 9.96330299e-01],\n       [7.40554841e-01, 2.59445159e-01],\n       [4.28159949e-01, 5.71840051e-01],\n       [8.06537953e-01, 1.93462047e-01],\n       [8.02996537e-01, 1.97003463e-01],\n       [5.96242102e-02, 9.40375790e-01],\n       [3.81189649e-01, 6.18810351e-01],\n       [8.07691436e-01, 1.92308564e-01],\n       [5.95216819e-01, 4.04783181e-01],\n       [6.10225256e-01, 3.89774744e-01],\n       [3.66974072e-01, 6.33025928e-01],\n       [4.23108775e-01, 5.76891225e-01],\n       [8.23152767e-01, 1.76847233e-01],\n       [6.58382264e-03, 9.93416177e-01],\n       [4.59267473e-01, 5.40732527e-01],\n       [6.50711751e-01, 3.49288249e-01],\n       [8.07781049e-01, 1.92218951e-01],\n       [5.87694734e-01, 4.12305266e-01],\n       [5.11639648e-01, 4.88360352e-01],\n       [5.81121267e-01, 4.18878733e-01],\n       [7.71450380e-01, 2.28549620e-01],\n       [6.25035185e-01, 3.74964815e-01],\n       [5.48109246e-01, 4.51890754e-01],\n       [7.26516580e-01, 2.73483420e-01],\n       [8.45203844e-01, 1.54796156e-01],\n       [1.99562745e-01, 8.00437255e-01],\n       [7.94795287e-01, 2.05204713e-01],\n       [8.08221254e-01, 1.91778746e-01],\n       [1.77330970e-01, 8.22669030e-01],\n       [7.99185322e-01, 2.00814678e-01],\n       [8.04212478e-01, 1.95787522e-01],\n       [7.99002028e-01, 2.00997972e-01],\n       [5.71972373e-02, 9.42802763e-01],\n       [6.76072921e-01, 3.23927079e-01],\n       [7.98381086e-01, 2.01618914e-01],\n       [8.09299019e-01, 1.90700981e-01],\n       [5.34206179e-01, 4.65793821e-01],\n       [6.02560314e-01, 3.97439686e-01],\n       [2.29874130e-01, 7.70125870e-01],\n       [1.96142186e-01, 8.03857814e-01],\n       [8.13822953e-01, 1.86177047e-01],\n       [7.94718205e-01, 2.05281795e-01],\n       [8.06703758e-01, 1.93296242e-01],\n       [5.12900729e-01, 4.87099271e-01],\n       [6.40153827e-01, 3.59846173e-01],\n       [8.05262592e-01, 1.94737408e-01],\n       [6.59016747e-01, 3.40983253e-01],\n       [5.12654593e-01, 4.87345407e-01],\n       [2.56844235e-01, 7.43155765e-01],\n       [9.05913856e-02, 9.09408614e-01],\n       [4.42762255e-01, 5.57237745e-01],\n       [4.62259710e-02, 9.53774029e-01],\n       [7.16699548e-01, 2.83300452e-01],\n       [6.20135493e-02, 9.37986451e-01],\n       [7.25626902e-01, 2.74373098e-01],\n       [1.42007487e-01, 8.57992513e-01],\n       [9.60593485e-03, 9.90394065e-01],\n       [7.33061510e-01, 2.66938490e-01],\n       [7.67722808e-01, 2.32277192e-01],\n       [3.56653888e-01, 6.43346112e-01],\n       [7.71327718e-01, 2.28672282e-01],\n       [7.50646319e-01, 2.49353681e-01],\n       [4.01024988e-01, 5.98975012e-01],\n       [4.01340470e-01, 5.98659530e-01],\n       [6.89780855e-02, 9.31021914e-01],\n       [2.84570412e-02, 9.71542959e-01],\n       [8.21828431e-01, 1.78171569e-01],\n       [5.31368327e-02, 9.46863167e-01],\n       [7.85040803e-01, 2.14959197e-01],\n       [8.03383540e-01, 1.96616460e-01],\n       [7.95997893e-01, 2.04002107e-01],\n       [6.41001185e-01, 3.58998815e-01],\n       [8.07434177e-02, 9.19256582e-01],\n       [3.60685494e-01, 6.39314506e-01],\n       [8.08821811e-01, 1.91178189e-01],\n       [7.81154409e-01, 2.18845591e-01],\n       [8.37815299e-01, 1.62184701e-01],\n       [7.83565332e-01, 2.16434668e-01],\n       [8.09914983e-01, 1.90085017e-01],\n       [8.08027348e-01, 1.91972652e-01],\n       [4.64113291e-01, 5.35886709e-01],\n       [5.98290601e-01, 4.01709399e-01],\n       [7.18074534e-01, 2.81925466e-01],\n       [5.68839948e-01, 4.31160052e-01],\n       [2.29502365e-01, 7.70497635e-01],\n       [1.40726577e-03, 9.98592734e-01],\n       [3.54833923e-02, 9.64516608e-01],\n       [6.67535371e-01, 3.32464629e-01],\n       [6.24978159e-01, 3.75021841e-01],\n       [6.10363010e-01, 3.89636990e-01],\n       [6.05263310e-01, 3.94736690e-01],\n       [4.96348387e-01, 5.03651613e-01],\n       [5.15027141e-01, 4.84972859e-01],\n       [8.19361286e-01, 1.80638714e-01],\n       [6.86999043e-01, 3.13000957e-01],\n       [5.79289200e-01, 4.20710800e-01],\n       [3.41005044e-01, 6.58994956e-01],\n       [7.88195580e-01, 2.11804420e-01],\n       [8.07091747e-01, 1.92908253e-01],\n       [5.06499682e-01, 4.93500318e-01],\n       [8.14660750e-01, 1.85339250e-01],\n       [7.93576547e-01, 2.06423453e-01],\n       [7.69805166e-01, 2.30194834e-01],\n       [1.88989764e-02, 9.81101024e-01],\n       [8.06798583e-01, 1.93201417e-01],\n       [7.98474522e-01, 2.01525478e-01],\n       [5.42501555e-02, 9.45749844e-01],\n       [8.09307509e-01, 1.90692491e-01],\n       [8.10865163e-01, 1.89134837e-01],\n       [1.20028215e-01, 8.79971785e-01],\n       [7.46451009e-01, 2.53548991e-01],\n       [3.69567004e-01, 6.30432996e-01],\n       [6.93418250e-01, 3.06581750e-01],\n       [8.30391004e-01, 1.69608996e-01],\n       [7.52337644e-01, 2.47662356e-01],\n       [6.80021094e-01, 3.19978906e-01],\n       [8.03454345e-01, 1.96545655e-01],\n       [1.92033797e-08, 9.99999981e-01],\n       [7.20859291e-01, 2.79140709e-01],\n       [6.18578694e-01, 3.81421306e-01],\n       [1.99979490e-02, 9.80002051e-01],\n       [8.10092794e-01, 1.89907206e-01],\n       [3.17107602e-01, 6.82892398e-01],\n       [3.11213174e-01, 6.88786826e-01],\n       [7.78037602e-01, 2.21962398e-01],\n       [5.41421458e-02, 9.45857854e-01],\n       [8.18073699e-02, 9.18192630e-01],\n       [1.66802064e-01, 8.33197936e-01],\n       [4.78969191e-01, 5.21030809e-01],\n       [7.77771569e-01, 2.22228431e-01],\n       [7.33900319e-01, 2.66099681e-01],\n       [7.58685391e-01, 2.41314609e-01],\n       [8.01658700e-01, 1.98341300e-01],\n       [3.59948988e-01, 6.40051012e-01],\n       [4.98627679e-01, 5.01372321e-01],\n       [8.21818056e-01, 1.78181944e-01],\n       [2.76411376e-01, 7.23588624e-01],\n       [4.26617713e-01, 5.73382287e-01],\n       [3.72734840e-02, 9.62726516e-01],\n       [7.42242011e-01, 2.57757989e-01],\n       [8.22907761e-01, 1.77092239e-01],\n       [4.62470141e-01, 5.37529859e-01],\n       [7.52505802e-01, 2.47494198e-01],\n       [8.07155237e-01, 1.92844763e-01],\n       [8.42214847e-01, 1.57785153e-01],\n       [8.02878711e-01, 1.97121289e-01],\n       [5.08502324e-01, 4.91497676e-01],\n       [4.30211576e-02, 9.56978842e-01],\n       [5.83080930e-01, 4.16919070e-01],\n       [4.78966227e-02, 9.52103377e-01],\n       [7.66877419e-01, 2.33122581e-01],\n       [8.16605776e-01, 1.83394224e-01],\n       [8.24530452e-01, 1.75469548e-01],\n       [6.13843488e-01, 3.86156512e-01],\n       [5.54018445e-01, 4.45981555e-01],\n       [8.41819757e-01, 1.58180243e-01],\n       [5.12189469e-01, 4.87810531e-01],\n       [2.37238640e-01, 7.62761360e-01],\n       [7.76093461e-01, 2.23906539e-01],\n       [7.33117757e-01, 2.66882243e-01],\n       [4.75209250e-01, 5.24790750e-01],\n       [1.72500660e-01, 8.27499340e-01],\n       [7.85123043e-02, 9.21487696e-01],\n       [7.87953370e-01, 2.12046630e-01],\n       [8.06547014e-01, 1.93452986e-01],\n       [7.45943444e-01, 2.54056556e-01],\n       [6.05710457e-01, 3.94289543e-01],\n       [3.69829159e-01, 6.30170841e-01],\n       [5.58395774e-10, 9.99999999e-01],\n       [8.04037125e-01, 1.95962875e-01],\n       [4.85008814e-04, 9.99514991e-01],\n       [7.88214845e-01, 2.11785155e-01],\n       [7.80050261e-01, 2.19949739e-01],\n       [1.79348863e-01, 8.20651137e-01],\n       [7.94418253e-01, 2.05581747e-01],\n       [3.95085375e-02, 9.60491463e-01],\n       [5.65502490e-01, 4.34497510e-01],\n       [7.63510755e-01, 2.36489245e-01],\n       [4.24970474e-01, 5.75029526e-01],\n       [7.38322418e-01, 2.61677582e-01],\n       [2.39110158e-01, 7.60889842e-01],\n       [7.29208694e-02, 9.27079131e-01],\n       [5.60415387e-01, 4.39584613e-01],\n       [7.81751158e-02, 9.21824884e-01],\n       [8.20651409e-01, 1.79348591e-01],\n       [5.99585000e-01, 4.00415000e-01],\n       [8.05050894e-01, 1.94949106e-01],\n       [5.48329315e-01, 4.51670685e-01],\n       [4.20119683e-02, 9.57988032e-01],\n       [5.89074298e-01, 4.10925702e-01],\n       [4.85044770e-02, 9.51495523e-01],\n       [8.30819324e-01, 1.69180676e-01],\n       [8.01488667e-01, 1.98511333e-01],\n       [6.43183538e-01, 3.56816462e-01],\n       [1.95306194e-02, 9.80469381e-01],\n       [7.64467825e-01, 2.35532175e-01],\n       [8.12611745e-01, 1.87388255e-01],\n       [6.94942706e-01, 3.05057294e-01],\n       [7.80800717e-01, 2.19199283e-01],\n       [6.71803803e-01, 3.28196197e-01],\n       [5.19205719e-02, 9.48079428e-01],\n       [8.21925017e-01, 1.78074983e-01],\n       [7.48536940e-01, 2.51463060e-01],\n       [7.67142050e-01, 2.32857950e-01],\n       [2.29959736e-02, 9.77004026e-01],\n       [5.95160012e-01, 4.04839988e-01],\n       [1.02497851e-02, 9.89750215e-01],\n       [7.88187283e-01, 2.11812717e-01],\n       [7.48622261e-01, 2.51377739e-01],\n       [8.12853505e-01, 1.87146495e-01],\n       [2.37629766e-01, 7.62370234e-01],\n       [7.96812846e-01, 2.03187154e-01],\n       [3.77716136e-01, 6.22283864e-01],\n       [8.19097015e-01, 1.80902985e-01],\n       [7.79778045e-01, 2.20221955e-01],\n       [8.14422746e-01, 1.85577254e-01],\n       [5.88774744e-01, 4.11225256e-01],\n       [1.01039547e-01, 8.98960453e-01],\n       [4.87790851e-03, 9.95122091e-01],\n       [2.57728686e-01, 7.42271314e-01],\n       [1.85548006e-01, 8.14451994e-01],\n       [7.45749689e-01, 2.54250311e-01],\n       [3.62426747e-01, 6.37573253e-01],\n       [1.01398669e-01, 8.98601331e-01],\n       [8.29530883e-01, 1.70469117e-01],\n       [6.69541725e-02, 9.33045827e-01],\n       [8.17658208e-01, 1.82341792e-01],\n       [5.04280948e-02, 9.49571905e-01],\n       [6.13897829e-01, 3.86102171e-01],\n       [7.99253045e-01, 2.00746955e-01],\n       [6.74119058e-01, 3.25880942e-01],\n       [5.21090485e-01, 4.78909515e-01],\n       [1.30006025e-01, 8.69993975e-01],\n       [1.33118606e-01, 8.66881394e-01],\n       [7.29058235e-01, 2.70941765e-01],\n       [5.68386586e-01, 4.31613414e-01],\n       [2.35328520e-02, 9.76467148e-01],\n       [7.03482275e-01, 2.96517725e-01],\n       [8.27454721e-02, 9.17254528e-01],\n       [7.44304366e-01, 2.55695634e-01],\n       [1.91011178e-02, 9.80898882e-01],\n       [5.59739083e-02, 9.44026092e-01],\n       [4.50807614e-01, 5.49192386e-01],\n       [3.70370852e-01, 6.29629148e-01],\n       [4.40667850e-01, 5.59332150e-01],\n       [7.98858219e-01, 2.01141781e-01],\n       [4.96974843e-01, 5.03025157e-01],\n       [8.01966346e-01, 1.98033654e-01],\n       [7.19227664e-01, 2.80772336e-01],\n       [7.58799964e-01, 2.41200036e-01],\n       [7.96205473e-01, 2.03794527e-01],\n       [7.34493580e-01, 2.65506420e-01],\n       [8.03380861e-01, 1.96619139e-01],\n       [7.99152456e-01, 2.00847544e-01],\n       [8.23999990e-01, 1.76000010e-01],\n       [2.87795862e-07, 9.99999712e-01],\n       [7.21254352e-01, 2.78745648e-01],\n       [4.70182735e-03, 9.95298173e-01],\n       [7.85973916e-01, 2.14026084e-01],\n       [7.05978196e-01, 2.94021804e-01],\n       [8.25612099e-01, 1.74387901e-01],\n       [1.45687342e-03, 9.98543127e-01],\n       [7.78841765e-01, 2.21158235e-01],\n       [8.03574248e-01, 1.96425752e-01],\n       [7.59932707e-01, 2.40067293e-01],\n       [5.24068336e-01, 4.75931664e-01],\n       [8.12078004e-01, 1.87921996e-01],\n       [8.08843815e-01, 1.91156185e-01],\n       [7.38147253e-01, 2.61852747e-01],\n       [6.34188643e-01, 3.65811357e-01],\n       [7.98656860e-01, 2.01343140e-01],\n       [8.00403557e-01, 1.99596443e-01],\n       [8.52784672e-02, 9.14721533e-01],\n       [5.77089115e-01, 4.22910885e-01],\n       [7.82480239e-01, 2.17519761e-01],\n       [5.64373956e-01, 4.35626044e-01],\n       [1.88451006e-03, 9.98115490e-01],\n       [7.55784289e-01, 2.44215711e-01],\n       [7.31535768e-01, 2.68464232e-01],\n       [7.96712274e-01, 2.03287726e-01],\n       [6.40271579e-01, 3.59728421e-01],\n       [7.59428696e-01, 2.40571304e-01],\n       [2.97050176e-02, 9.70294982e-01],\n       [1.39747234e-04, 9.99860253e-01],\n       [7.15513719e-01, 2.84486281e-01],\n       [8.60283838e-01, 1.39716162e-01],\n       [6.41835719e-02, 9.35816428e-01],\n       [8.07406509e-01, 1.92593491e-01],\n       [4.99790039e-01, 5.00209961e-01],\n       [8.33425772e-01, 1.66574228e-01],\n       [7.86730561e-01, 2.13269439e-01],\n       [8.23147697e-01, 1.76852303e-01],\n       [6.61130071e-02, 9.33886993e-01],\n       [7.94997350e-01, 2.05002650e-01],\n       [7.26456891e-01, 2.73543109e-01],\n       [8.31537225e-01, 1.68462775e-01],\n       [3.88234915e-03, 9.96117651e-01],\n       [8.10273087e-01, 1.89726913e-01],\n       [1.76315299e-01, 8.23684701e-01],\n       [7.57273883e-01, 2.42726117e-01],\n       [7.84067351e-01, 2.15932649e-01],\n       [7.75057931e-01, 2.24942069e-01],\n       [6.36543396e-01, 3.63456604e-01],\n       [6.57809314e-01, 3.42190686e-01],\n       [6.59771830e-02, 9.34022817e-01],\n       [7.98335709e-01, 2.01664291e-01],\n       [4.54804995e-01, 5.45195005e-01],\n       [6.37313335e-01, 3.62686665e-01],\n       [5.53285725e-01, 4.46714275e-01],\n       [8.08147117e-01, 1.91852883e-01],\n       [2.92274071e-02, 9.70772593e-01],\n       [8.30077529e-01, 1.69922471e-01],\n       [6.43807138e-01, 3.56192862e-01],\n       [4.97924146e-01, 5.02075854e-01],\n       [7.40184395e-01, 2.59815605e-01],\n       [5.22553800e-01, 4.77446200e-01],\n       [2.76626063e-01, 7.23373937e-01],\n       [9.11686060e-04, 9.99088314e-01],\n       [8.20750019e-01, 1.79249981e-01],\n       [7.30529854e-01, 2.69470146e-01],\n       [6.07483102e-01, 3.92516898e-01],\n       [8.10037978e-01, 1.89962022e-01],\n       [6.86900460e-01, 3.13099540e-01],\n       [6.46711636e-01, 3.53288364e-01],\n       [3.10651108e-01, 6.89348892e-01],\n       [7.65586228e-01, 2.34413772e-01],\n       [7.95797396e-01, 2.04202604e-01],\n       [7.74276489e-01, 2.25723511e-01],\n       [6.33463367e-01, 3.66536633e-01],\n       [7.97620536e-01, 2.02379464e-01],\n       [2.97767364e-01, 7.02232636e-01],\n       [1.71833019e-01, 8.28166981e-01],\n       [8.20976714e-01, 1.79023286e-01],\n       [6.78545572e-01, 3.21454428e-01],\n       [7.95100574e-01, 2.04899426e-01],\n       [5.76977038e-01, 4.23022962e-01],\n       [6.50825914e-01, 3.49174086e-01],\n       [7.30206003e-01, 2.69793997e-01],\n       [1.38777518e-01, 8.61222482e-01],\n       [7.89972997e-01, 2.10027003e-01],\n       [3.69233873e-01, 6.30766127e-01],\n       [7.21008095e-01, 2.78991905e-01],\n       [5.73826723e-01, 4.26173277e-01],\n       [2.10821489e-02, 9.78917851e-01],\n       [6.22172998e-01, 3.77827002e-01],\n       [7.87593752e-01, 2.12406248e-01],\n       [5.68909234e-02, 9.43109077e-01],\n       [4.93052741e-02, 9.50694726e-01],\n       [1.65561457e-01, 8.34438543e-01],\n       [5.08223913e-01, 4.91776087e-01],\n       [7.62055899e-01, 2.37944101e-01],\n       [8.30327000e-01, 1.69673000e-01],\n       [6.33457804e-03, 9.93665422e-01],\n       [8.08391172e-01, 1.91608828e-01],\n       [7.49836147e-01, 2.50163853e-01],\n       [2.70419987e-04, 9.99729580e-01],\n       [7.79113229e-01, 2.20886771e-01],\n       [8.49520136e-02, 9.15047986e-01],\n       [8.26187422e-01, 1.73812578e-01],\n       [8.05132613e-01, 1.94867387e-01],\n       [1.21509461e-01, 8.78490539e-01],\n       [6.64057909e-02, 9.33594209e-01],\n       [4.66446770e-03, 9.95335532e-01],\n       [8.01668436e-01, 1.98331564e-01],\n       [6.35033025e-01, 3.64966975e-01],\n       [5.54204502e-01, 4.45795498e-01],\n       [7.90039916e-02, 9.20996008e-01],\n       [2.61557292e-01, 7.38442708e-01],\n       [2.91530733e-01, 7.08469267e-01],\n       [7.44073156e-01, 2.55926844e-01],\n       [7.46126977e-01, 2.53873023e-01],\n       [7.99679809e-01, 2.00320191e-01],\n       [7.81295272e-01, 2.18704728e-01],\n       [7.42826595e-01, 2.57173405e-01],\n       [8.03609590e-01, 1.96390410e-01],\n       [6.75723006e-01, 3.24276994e-01],\n       [7.77340587e-01, 2.22659413e-01],\n       [6.61636790e-01, 3.38363210e-01],\n       [6.47547644e-01, 3.52452356e-01],\n       [7.89061300e-01, 2.10938700e-01],\n       [2.33329159e-02, 9.76667084e-01],\n       [8.06070458e-01, 1.93929542e-01],\n       [7.39673245e-01, 2.60326755e-01],\n       [7.07828455e-01, 2.92171545e-01],\n       [7.96761427e-01, 2.03238573e-01],\n       [1.56939530e-01, 8.43060470e-01],\n       [2.93040972e-01, 7.06959028e-01],\n       [7.82692796e-01, 2.17307204e-01],\n       [6.81193143e-01, 3.18806857e-01],\n       [5.23844930e-01, 4.76155070e-01],\n       [8.25863533e-01, 1.74136467e-01],\n       [7.72151879e-02, 9.22784812e-01],\n       [7.99694188e-01, 2.00305812e-01],\n       [7.80627949e-01, 2.19372051e-01],\n       [3.63710382e-04, 9.99636290e-01],\n       [5.35845924e-01, 4.64154076e-01],\n       [7.05641651e-01, 2.94358349e-01],\n       [8.29135934e-01, 1.70864066e-01],\n       [5.63154444e-04, 9.99436846e-01],\n       [8.18728789e-01, 1.81271211e-01],\n       [8.10845938e-01, 1.89154062e-01],\n       [7.68769122e-01, 2.31230878e-01],\n       [6.87066717e-01, 3.12933283e-01],\n       [6.81755982e-01, 3.18244018e-01],\n       [7.30633148e-01, 2.69366852e-01],\n       [7.52563200e-01, 2.47436800e-01],\n       [6.66095154e-01, 3.33904846e-01],\n       [7.72545262e-01, 2.27454738e-01],\n       [7.34210973e-01, 2.65789027e-01],\n       [7.42643918e-01, 2.57356082e-01],\n       [7.11522738e-01, 2.88477262e-01],\n       [6.72828537e-01, 3.27171463e-01],\n       [7.85645502e-01, 2.14354498e-01],\n       [5.86256446e-01, 4.13743554e-01],\n       [8.04631613e-01, 1.95368387e-01]])"
          },
          "metadata": {}
        }
      ]
    },
    {
      "cell_type": "code",
      "source": "model.predict(x1)",
      "metadata": {
        "trusted": true
      },
      "execution_count": 23,
      "outputs": [
        {
          "execution_count": 23,
          "output_type": "execute_result",
          "data": {
            "text/plain": "array([0, 0, 1, 0, 0, 0, 0, 0, 0, 0, 1, 0, 1, 0, 1, 0, 1, 0, 0, 1, 1, 0,\n       0, 0, 1, 1, 0, 1, 1, 0, 0, 0, 0, 0, 0, 0, 0, 0, 0, 1, 0, 0, 1, 0,\n       0, 0, 1, 0, 0, 0, 0, 0, 1, 1, 0, 0, 0, 0, 0, 0, 0, 0, 1, 1, 1, 1,\n       0, 1, 0, 1, 1, 0, 0, 1, 0, 0, 1, 1, 1, 1, 0, 1, 0, 0, 0, 0, 1, 1,\n       0, 0, 0, 0, 0, 0, 1, 0, 0, 0, 1, 1, 1, 0, 0, 0, 0, 1, 0, 0, 0, 0,\n       1, 0, 0, 0, 0, 0, 0, 1, 0, 0, 1, 0, 0, 1, 0, 1, 0, 0, 0, 0, 0, 1,\n       0, 0, 1, 0, 1, 1, 0, 1, 1, 1, 1, 0, 0, 0, 0, 1, 1, 0, 1, 1, 1, 0,\n       0, 1, 0, 0, 0, 0, 0, 1, 0, 1, 0, 0, 0, 0, 0, 0, 0, 1, 0, 0, 1, 1,\n       1, 0, 0, 0, 0, 1, 1, 0, 1, 0, 0, 1, 0, 1, 0, 0, 1, 0, 1, 1, 0, 1,\n       0, 0, 0, 0, 1, 0, 1, 0, 0, 0, 1, 0, 0, 0, 0, 0, 1, 0, 0, 0, 1, 0,\n       1, 0, 0, 0, 1, 0, 1, 0, 0, 0, 0, 1, 1, 1, 1, 0, 1, 1, 0, 1, 0, 1,\n       0, 0, 0, 0, 1, 1, 0, 0, 1, 0, 1, 0, 1, 1, 1, 1, 1, 0, 1, 0, 0, 0,\n       0, 0, 0, 0, 0, 1, 0, 1, 0, 0, 0, 1, 0, 0, 0, 0, 0, 0, 0, 0, 0, 0,\n       1, 0, 0, 0, 1, 0, 0, 0, 0, 0, 1, 1, 0, 0, 1, 0, 1, 0, 0, 0, 1, 0,\n       0, 0, 1, 0, 1, 0, 0, 0, 0, 0, 1, 0, 1, 0, 0, 0, 1, 0, 0, 1, 0, 0,\n       1, 1, 0, 0, 0, 0, 0, 0, 1, 0, 0, 0, 0, 0, 1, 1, 0, 0, 0, 0, 0, 0,\n       1, 0, 1, 0, 0, 1, 0, 0, 1, 1, 1, 0, 0, 0, 1, 0, 0, 1, 0, 1, 0, 0,\n       1, 1, 1, 0, 0, 0, 1, 1, 1, 0, 0, 0, 0, 0, 0, 0, 0, 0, 0, 0, 1, 0,\n       0, 0, 0, 1, 1, 0, 0, 0, 0, 1, 0, 0, 1, 0, 0, 0, 1, 0, 0, 0, 0, 0,\n       0, 0, 0, 0, 0, 0, 0, 0, 0, 0, 0], dtype=int64)"
          },
          "metadata": {}
        }
      ]
    },
    {
      "cell_type": "code",
      "source": "model.score(x1, y1)",
      "metadata": {
        "trusted": true
      },
      "execution_count": 24,
      "outputs": [
        {
          "execution_count": 24,
          "output_type": "execute_result",
          "data": {
            "text/plain": "0.7715617715617715"
          },
          "metadata": {}
        }
      ]
    },
    {
      "cell_type": "code",
      "source": "",
      "metadata": {},
      "execution_count": null,
      "outputs": []
    }
  ]
}